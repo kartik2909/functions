{
  "nbformat": 4,
  "nbformat_minor": 0,
  "metadata": {
    "colab": {
      "provenance": []
    },
    "kernelspec": {
      "name": "python3",
      "display_name": "Python 3"
    },
    "language_info": {
      "name": "python"
    }
  },
  "cells": [
    {
      "cell_type": "markdown",
      "source": [
        "^ functions\n"
      ],
      "metadata": {
        "id": "GjmtfQg7f00L"
      }
    },
    {
      "cell_type": "markdown",
      "source": [
        "1. question\n",
        "   - answer\n",
        "\n",
        "2. question\n",
        "   - answer\n",
        "   "
      ],
      "metadata": {
        "id": "0JW6CCOaf6jC"
      }
    },
    {
      "cell_type": "code",
      "execution_count": null,
      "metadata": {
        "id": "u_vPRKCmfsXQ"
      },
      "outputs": [],
      "source": [
        "# question\n",
        "\n",
        "\n",
        "\n"
      ]
    },
    {
      "cell_type": "markdown",
      "source": [],
      "metadata": {
        "id": "qoWopp6Ef4iC"
      }
    },
    {
      "cell_type": "markdown",
      "source": [],
      "metadata": {
        "id": "rU-_jrcxfzoS"
      }
    }
  ]
}